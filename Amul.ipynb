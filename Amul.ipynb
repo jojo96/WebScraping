{
 "cells": [
  {
   "cell_type": "code",
   "execution_count": null,
   "metadata": {},
   "outputs": [],
   "source": [
    "import requests\n",
    "from bs4 import BeautifulSoup\n",
    "import urllib.request"
   ]
  },
  {
   "cell_type": "code",
   "execution_count": null,
   "metadata": {},
   "outputs": [],
   "source": [
    "url = \"https://www.amul.com/m/amul-hits?s=2020\"\n",
    "response = requests.get(url)\n",
    "soup = BeautifulSoup(response.text, \"html.parser\")"
   ]
  },
  {
   "cell_type": "code",
   "execution_count": null,
   "metadata": {},
   "outputs": [],
   "source": [
    "images = soup.findAll('img')\n",
    "for image in images:\n",
    "    print(image['src'])\n",
    "   "
   ]
  },
  {
   "cell_type": "code",
   "execution_count": null,
   "metadata": {},
   "outputs": [],
   "source": [
    "year = 2020\n",
    "sub = \"amul-hits\"\n",
    "ind = 1\n",
    "\n",
    "while year>1980:\n",
    "    for i in range(0,20):\n",
    "        web = \"https://www.amul.com/m/amul-hits?s=\"+str(year)+\"&l=\"+str(i)\n",
    "        response = requests.get(web)\n",
    "        #response = requests.get(url)\n",
    "        soup = BeautifulSoup(response.text, \"html.parser\")\n",
    "        images = soup.findAll('img')\n",
    "        for image in images:\n",
    "            #print image source\n",
    "            if (image['src'].count(sub)>0):\n",
    "                print(image['src'])\n",
    "                #url = \"https://www.amul.com/files/hits/amul-hits-2851.jpg\"\n",
    "                #response2 = requests.get(image['src'])\n",
    "                #soup2 = BeautifulSoup(response2.text, \"html.parser\")\n",
    "                #for image in soup.findAll(\"img\"):\n",
    "                    #print(\"Image: %(src)s\" % image)\n",
    "                #    image_url = urlparse.urljoin(url, image['src'])\n",
    "                urllib.request.urlretrieve(\"https://www.amul.com/\"+image['src'], r\"C:\\Users\\admin\\Desktop\\projects\\juggling\\amul\\\\\"+str(year)+'--'+str(ind)+\".jpg\")\n",
    "                ind = ind + 1\n",
    "        #print(web)\n",
    "    year = year -1"
   ]
  },
  {
   "cell_type": "code",
   "execution_count": null,
   "metadata": {},
   "outputs": [],
   "source": [
    "\n"
   ]
  }
 ],
 "metadata": {
  "kernelspec": {
   "display_name": "Python 3",
   "language": "python",
   "name": "python3"
  },
  "language_info": {
   "codemirror_mode": {
    "name": "ipython",
    "version": 3
   },
   "file_extension": ".py",
   "mimetype": "text/x-python",
   "name": "python",
   "nbconvert_exporter": "python",
   "pygments_lexer": "ipython3",
   "version": "3.7.4"
  }
 },
 "nbformat": 4,
 "nbformat_minor": 2
}
